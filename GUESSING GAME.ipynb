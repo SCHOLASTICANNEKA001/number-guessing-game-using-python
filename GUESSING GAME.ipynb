{
  "nbformat": 4,
  "nbformat_minor": 0,
  "metadata": {
    "colab": {
      "provenance": []
    },
    "kernelspec": {
      "name": "python3",
      "display_name": "Python 3"
    },
    "language_info": {
      "name": "python"
    }
  },
  "cells": [
    {
      "cell_type": "code",
      "execution_count": 19,
      "metadata": {
        "id": "M95k0USwLXz8"
      },
      "outputs": [],
      "source": [
        "import random\n",
        "import math"
      ]
    },
    {
      "cell_type": "code",
      "source": [
        "# Taking Inputs\n",
        "lower = int(input(\"Enter Lower bound:- \"))\n",
        "\n",
        "# Taking Inputs\n",
        "upper = int(input(\"Enter Upper bound:- \"))\n",
        "\n",
        "# generating random number between\n",
        "# the lower and upper\n",
        "x = random.randint(lower, upper)\n",
        "total_chances = math.ceil(math.log(upper - lower + 1, 2))\n",
        "print(\"\\n\\tYou've only \", total_chances, \" chances to guess the integer!\\n\")\n",
        "\n",
        "\n",
        "\n"
      ],
      "metadata": {
        "colab": {
          "base_uri": "https://localhost:8080/"
        },
        "id": "SE1Nj0LDUw57",
        "outputId": "c3556091-1f78-4ebc-e0b8-41f1f2d8bec3"
      },
      "execution_count": 20,
      "outputs": [
        {
          "output_type": "stream",
          "name": "stdout",
          "text": [
            "Enter Lower bound:- 4\n",
            "Enter Upper bound:- 4\n",
            "\n",
            "\tYou've only  0  chances to guess the integer!\n",
            "\n"
          ]
        }
      ]
    },
    {
      "cell_type": "code",
      "source": [
        "# Initializing the number of guesses.\n",
        "count = 0\n",
        "flag = False\n",
        "\n",
        "# for calculation of minimum number of\n",
        "# guesses depends upon range\n",
        "while count < total_chances:\n",
        "    count += 1\n",
        "\n",
        "# taking guessing number as input\n",
        "guess = int(input(\"Guess a number:- \"))\n"
      ],
      "metadata": {
        "colab": {
          "base_uri": "https://localhost:8080/"
        },
        "id": "v2GznmMjUxSc",
        "outputId": "a94fc15f-147f-44e4-d712-fc1e080213d9"
      },
      "execution_count": 21,
      "outputs": [
        {
          "name": "stdout",
          "output_type": "stream",
          "text": [
            "Guess a number:- 2\n"
          ]
        }
      ]
    },
    {
      "cell_type": "code",
      "source": [
        "  # Condition testing\n",
        "if x == guess:\n",
        "        print(\"Congratulations you did it in \",\n",
        "              count, \" try\")\n",
        "        # Once guessed, loop will break\n",
        "        flag = True\n",
        "\n",
        "elif x > guess:\n",
        "        print(\"You guessed too small!\")\n",
        "elif x < guess:\n",
        "        print(\"You Guessed too high!\")\n",
        "\n",
        "        # If Guessing is more than required guesses,\n",
        "# shows this output.\n",
        "if not flag:\n",
        "    print(\"\\nThe number is %d\" % x)\n",
        "    print(\"\\tBetter Luck Next time!\")\n",
        "\n",
        "\n"
      ],
      "metadata": {
        "colab": {
          "base_uri": "https://localhost:8080/"
        },
        "id": "nge6JPe-banu",
        "outputId": "b823bd80-2508-4480-8488-c2d3fc32c273"
      },
      "execution_count": 22,
      "outputs": [
        {
          "output_type": "stream",
          "name": "stdout",
          "text": [
            "You guessed too small!\n",
            "\n",
            "The number is 4\n",
            "\tBetter Luck Next time!\n"
          ]
        }
      ]
    }
  ]
}